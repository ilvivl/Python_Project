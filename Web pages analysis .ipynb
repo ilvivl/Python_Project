{
 "cells": [
  {
   "cell_type": "code",
   "execution_count": 8,
   "metadata": {},
   "outputs": [
    {
     "name": "stdout",
     "output_type": "stream",
     "text": [
      "17\n"
     ]
    }
   ],
   "source": [
    "### TODO: потестить\n",
    "\n",
    "import requests\n",
    "from bs4 import BeautifulSoup\n",
    "\n",
    "api_key = \"trnsl.1.1.20190308T130505Z.54bc8184ebd6c2e8.87af28bd612e1abcccc8a24fd7f50bc587b05014\"\n",
    "yandex_translator_url = \"https://translate.yandex.net/api/v1.5/tr.json/translate\"\n",
    "\n",
    "def yandex_translater(text, lang = 'ru'):\n",
    "    \"\"\"\n",
    "        Функция переводящая с занного языка на заданный параметром land язык, при этом если необходимо перевести слово \n",
    "        с английского на русский параметр lang необходимо задать как \"en-ru\"\n",
    "    \"\"\"\n",
    "    url = yandex_translator_url + \"?\" + \"key=\" + api_key + \"&\" + \"text=\" + text + \"&\" + \"lang=\" + lang\n",
    "    r = requests.get(url)\n",
    "    return r.json()['text'][0]\n",
    "    \n",
    "def media_files_frequency(soup, media_type):\n",
    "    \"\"\"\n",
    "        Количество встреченных медиа-файлов, media_type = [песни, видео, картинки...]\n",
    "    \"\"\"\n",
    "    num = 0\n",
    "    for i in soup.find_all(media_type):\n",
    "        num += 1\n",
    "    return num\n",
    "\n",
    "def word_frequency(text, lang = \"ru\"):\n",
    "    \"\"\"\n",
    "        Найдем 10 наиболее часто встречающихся слов и переведем их в случае необходимости на русский\n",
    "    \"\"\"\n",
    "    for sep in \" .,:;\\'!?\\\"\\}\\{\\(\\)\\[\\]\\^=@#\": # убираем все разделители\n",
    "        text = text.replace(sep, \" \")\n",
    "    text = text.split()\n",
    "    d = dict()\n",
    "    for word in text:\n",
    "        if d.get(word) == None:\n",
    "            d[word] = 1\n",
    "        else:\n",
    "            d[word] += 1\n",
    "    sort = sorted(word_frequency(text).items(), key=lambda kv: -kv[1]) #минус означает сортировку по убыванию\n",
    "    most_frequent_words = sort[0:10] # 10 наиболее часто встречащийся слов\n",
    "    if lang != \"ru\":\n",
    "        for i in range(len(most_frequent_words)):\n",
    "            most_frequent_words[i] = yandex_translater(most_frequent_words[i], lang) \n",
    "            # TODO: оделать перевода по уже известному языку, полученному из html\n",
    "    return most_frequent_words\n",
    "\n",
    "def info_from_html(url, \n",
    "                   headers = {\n",
    "                       'User-Agent': 'Mozilla/5.0 (Macintosh; Intel Mac OS X 10.9; rv:45.0) Gecko/20100101 Firefox/45.0'\n",
    "                   }):\n",
    "    \"\"\"\n",
    "        Функция, получающая иформация с веб-страницы, заданной url адресом, headers здесь параметр необходимый для того,\n",
    "        чтобы сайты не посчитали наше преложение вирусным\n",
    "    \"\"\"\n",
    "    r = requests.get(url, headers = headers)\n",
    "    soup = BeautifulSoup(r.text, \"html.parser\")\n",
    "    text = ''.join(soup.findAll(text=True))\n",
    "    # TODO: вытащить из html язык, на котором написана страница\n",
    "    num_of_audio = media_files_frequency(soup, 'audio')\n",
    "    num_of_video = media_files_frequency(soup, 'video')\n",
    "    num_of_pics = media_files_frequency(soup, 'img')\n",
    "    for i in soup.find_all('button'):\n",
    "        print(i)\n",
    "    print(num_of_pics)\n",
    "    \n",
    "info_from_html('https://ru.wikipedia.org/wiki/Ассоциативный_массив')"
   ]
  },
  {
   "cell_type": "code",
   "execution_count": 7,
   "metadata": {},
   "outputs": [],
   "source": [
    "url = \"https://translate.yandex.net/api/v1.5/tr.json/translate?key=trnsl.1.1.20190308T130505Z.54bc8184ebd6c2e8.87af28bd612e1abcccc8a24fd7f50bc587b05014&text=\" + \"car\" + \"&lang=ru\""
   ]
  },
  {
   "cell_type": "code",
   "execution_count": null,
   "metadata": {},
   "outputs": [],
   "source": []
  }
 ],
 "metadata": {
  "kernelspec": {
   "display_name": "Python 3",
   "language": "python",
   "name": "python3"
  },
  "language_info": {
   "codemirror_mode": {
    "name": "ipython",
    "version": 3
   },
   "file_extension": ".py",
   "mimetype": "text/x-python",
   "name": "python",
   "nbconvert_exporter": "python",
   "pygments_lexer": "ipython3",
   "version": "3.6.4"
  }
 },
 "nbformat": 4,
 "nbformat_minor": 2
}
